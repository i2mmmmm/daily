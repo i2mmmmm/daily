{
  "nbformat": 4,
  "nbformat_minor": 0,
  "metadata": {
    "colab": {
      "provenance": [],
      "authorship_tag": "ABX9TyMEnDSJK6TTAne6O3G1hvyu",
      "include_colab_link": true
    },
    "kernelspec": {
      "name": "python3",
      "display_name": "Python 3"
    },
    "language_info": {
      "name": "python"
    }
  },
  "cells": [
    {
      "cell_type": "markdown",
      "metadata": {
        "id": "view-in-github",
        "colab_type": "text"
      },
      "source": [
        "<a href=\"https://colab.research.google.com/github/i2mmmmm/daily/blob/main/20230527note.ipynb\" target=\"_parent\"><img src=\"https://colab.research.google.com/assets/colab-badge.svg\" alt=\"Open In Colab\"/></a>"
      ]
    },
    {
      "cell_type": "code",
      "execution_count": 1,
      "metadata": {
        "id": "mXDXDnYtsHPP"
      },
      "outputs": [],
      "source": [
        "import tensorflow as tf\n",
        "\n",
        "키 = 170\n",
        "신발 = 260\n",
        "\n",
        "a = tf.Variable(0.1)\n",
        "b = tf.Variable(0.2)\n",
        "\n",
        "def 손실함수():\n",
        "  예측값 = 키 * a + b\n",
        "  return tf.square(260 - 예측값)\n",
        "#  return tf.square(실제값 - 예측값)\n",
        "\n",
        "opt = tf.keras.optimizers.Adam(learning_rate=0.1)\n",
        "\n",
        "opt.minimize(손실함수, var_list=[a,b])"
      ]
    },
    {
      "cell_type": "code",
      "source": [
        "print(a,b)"
      ],
      "metadata": {
        "colab": {
          "base_uri": "https://localhost:8080/"
        },
        "id": "eIbqkzfGtseK",
        "outputId": "d1f95f24-3018-4c64-e23a-ec2c9c307919"
      },
      "execution_count": 6,
      "outputs": [
        {
          "output_type": "stream",
          "name": "stdout",
          "text": [
            "<tf.Variable 'Variable:0' shape=() dtype=float32, numpy=0.19999935> <tf.Variable 'Variable:0' shape=() dtype=float32, numpy=0.29999933>\n"
          ]
        }
      ]
    },
    {
      "cell_type": "code",
      "source": [
        "for i in range(300):\n",
        "  opt.minimize(손실함수, var_list=[a,b])"
      ],
      "metadata": {
        "id": "8w9FXcsQtfVf"
      },
      "execution_count": 7,
      "outputs": []
    },
    {
      "cell_type": "code",
      "source": [
        "print(a.numpy(),b.numpy())"
      ],
      "metadata": {
        "colab": {
          "base_uri": "https://localhost:8080/"
        },
        "id": "BxpIXxqnt2WS",
        "outputId": "96326c62-8ada-4544-8ca2-c4dc7b1f2474"
      },
      "execution_count": 9,
      "outputs": [
        {
          "output_type": "stream",
          "name": "stdout",
          "text": [
            "1.5198832 1.6198834\n"
          ]
        }
      ]
    },
    {
      "cell_type": "code",
      "source": [
        "168*a.numpy()+b.numpy()"
      ],
      "metadata": {
        "colab": {
          "base_uri": "https://localhost:8080/"
        },
        "id": "5ah46e2IuG-x",
        "outputId": "d053f5ac-6e0a-4f85-ec38-dfd0cc841112"
      },
      "execution_count": 10,
      "outputs": [
        {
          "output_type": "execute_result",
          "data": {
            "text/plain": [
              "256.96025359630585"
            ]
          },
          "metadata": {},
          "execution_count": 10
        }
      ]
    },
    {
      "cell_type": "code",
      "source": [
        "import tensorflow as tf\n",
        "tf.keras.models.Sequential([ ])"
      ],
      "metadata": {
        "id": "YaDCnX4iurWz"
      },
      "execution_count": null,
      "outputs": []
    },
    {
      "cell_type": "code",
      "source": [
        "import pandas as pd\n",
        "\n",
        "data = pd.read_csv('gpascore.csv')\n",
        "\n",
        "data.isnull().sum() # 빈칸 세기\n",
        "data = data.dropna() # 빈칸 있는 데이터 제외\n",
        "#data = data.fillna(100) # 빈칸에 100 넣기\n",
        "print(data['gre'].max())\n",
        "print(data['gre'].count())\n",
        "\n",
        "y데이터 = data['admit'].values # 리스트 안에 데이터를 다 담기 y 형태로 만들기\n",
        "x데이터 = [ ] # 먼저 리스트를 만들어주고 for 문으로 내용 채우기\n",
        "\n",
        "for i, rows in data.iterrows():  # iterrows는 data라는 데이터 프레임을 가로 한줄씩 출력하기\n",
        "  # print(rows['gre']) # 이렇게 하면 gre 라는 열이 출력\n",
        "  #[ rows['gre'], rows['gpa'], rows['rank'] ]  # 리스트로 담기 - 이게 우리가 원하던 x 의 형태 = [640,3.19,4]\n",
        "  x데이터.append([ rows['gre'], rows['gpa'], rows['rank'] ])\n",
        "\n",
        "print (x데이터)\n",
        "\n",
        "\n",
        "exit() # 여기까지만 하고 뒤에는 아직 하지마시오"
      ],
      "metadata": {
        "id": "U6jVPEsd_U5v"
      },
      "execution_count": 11,
      "outputs": []
    },
    {
      "cell_type": "code",
      "source": [
        "import tensorflow as tf\n",
        "\n",
        "model = tf.keras.models.Sequential([\n",
        "    tf.keras.layers.Dense(64, activation = 'sigmoid'),\n",
        "    tf.keras.layers.Dense(128, activation='tanh'),\n",
        "    tf.keras.layers.Dense(1, activation='sigmoid'),\n",
        "])\n",
        "\n",
        "model.compile(optimizer='adam', loss='binary_crossentropy', metircs='accuracy')\n",
        "\n",
        "# model.fit(x데이터, y데이터, epochs=10) # w값을 찾아주세요\n",
        "# 이렇게 하면 오류  - 리스트형태로 넣을 수는 없기 때문에, numpy array or tf tensor 을 넣어야함\n",
        "import numpy as np\n",
        "\n",
        "model.fit( np.array(x데이터), np.array(y데이터), epochs=10)\n",
        "\n",
        "# epochs 를 1000 2000 으로 늘리면 accuracy(성능)를 80퍼센트까지는 가능할 듯\n",
        "\n",
        "# 그리고 예측하기\n",
        "\n",
        "#model.predict( [ 신규1, 신규2 ] )\n",
        "예측값 = model.predict( [ [750,3.7,3], [400,2.2,1] ] )\n",
        "print(예측값)\n",
        "\n",
        "# 1. 모델만들기 2. 데이터 넣기 3. 새로운 데이터 예측\n",
        "# 데이터 전처리 + 모델 튜닝\n",
        "# 딥러닝학습 연구하고 실험하기"
      ],
      "metadata": {
        "id": "fAIQ6DNTvXIo"
      },
      "execution_count": null,
      "outputs": []
    },
    {
      "cell_type": "markdown",
      "source": [],
      "metadata": {
        "id": "SPaf2nRK_Bkd"
      }
    }
  ]
}