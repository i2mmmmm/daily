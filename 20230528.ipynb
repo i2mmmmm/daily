{
  "nbformat": 4,
  "nbformat_minor": 0,
  "metadata": {
    "colab": {
      "provenance": [],
      "authorship_tag": "ABX9TyPSAmeRTKxvpXRE7XT9TYC0",
      "include_colab_link": true
    },
    "kernelspec": {
      "name": "python3",
      "display_name": "Python 3"
    },
    "language_info": {
      "name": "python"
    }
  },
  "cells": [
    {
      "cell_type": "markdown",
      "metadata": {
        "id": "view-in-github",
        "colab_type": "text"
      },
      "source": [
        "<a href=\"https://colab.research.google.com/github/i2mmmmm/daily/blob/main/20230528.ipynb\" target=\"_parent\"><img src=\"https://colab.research.google.com/assets/colab-badge.svg\" alt=\"Open In Colab\"/></a>"
      ]
    },
    {
      "cell_type": "code",
      "source": [
        "git은 나의 소스코드를 저장하고 버전을 관리하고 공유할 수 있다.\n",
        "\n",
        "git init      (initialize 의 준말) 처음 git 올릴 준비\n",
        "git add .     (.은 전부 다 라는 뜻) 모든 파일을 git에 추가하겠다\n",
        "git add README.md             (README 만 올리겠다)\n",
        "git status    (상태를 보여주는 것)\n",
        "git commit -m \"first commit\"  (히스토리 만들기- 파일의 이름만드는 것)\n",
        "git remote add origin git@github.com:i2mmmmm/first_project.git    (내 컴퓨터랑 git 연결고리 만들기)\n",
        "git remote -v (연결고리 확인하기)\n",
        "git push origin master        (마스터 브랜치로 보내기)\n",
        "\n",
        "git add .\n",
        "git commit -m \"second commit\"\n",
        "git push origin master\n",
        "(코드 수정한 파일 다시 커밋하기)"
      ],
      "metadata": {
        "id": "-qNfQXB014fD"
      },
      "execution_count": null,
      "outputs": []
    },
    {
      "cell_type": "code",
      "source": [
        "1. 프로젝트 완성도\n",
        "2. 소스 코드 열맞추기\n",
        "3. 변수명 함수명 잘쓰기\n",
        "4. 주석 달기\n",
        "(1. 작성자, 파일의 역할, 작성날짜, 업데이트 날짜)\n",
        "(2. 함수마다 기능 주석)\n",
        "README 파일 올리기\n",
        "(demo 링크, 목표, 사용 기술, 자랑하고싶은 기능, 개선사항)"
      ],
      "metadata": {
        "id": "7kyDqHcJ19OD"
      },
      "execution_count": null,
      "outputs": []
    }
  ]
}